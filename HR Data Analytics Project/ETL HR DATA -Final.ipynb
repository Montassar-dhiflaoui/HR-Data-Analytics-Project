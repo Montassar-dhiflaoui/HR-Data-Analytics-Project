{
 "cells": [
  {
   "cell_type": "code",
   "execution_count": 1,
   "id": "d5b32de8-77ce-44d8-babf-85755b890279",
   "metadata": {},
   "outputs": [],
   "source": [
    "import pandas as pd\n",
    "from sqlalchemy import create_engine\n",
    "from datetime import datetime"
   ]
  },
  {
   "cell_type": "code",
   "execution_count": 2,
   "id": "9b4cf838-f751-4929-8d02-8a3bf2775920",
   "metadata": {},
   "outputs": [
    {
     "data": {
      "text/html": [
       "<div>\n",
       "<style scoped>\n",
       "    .dataframe tbody tr th:only-of-type {\n",
       "        vertical-align: middle;\n",
       "    }\n",
       "\n",
       "    .dataframe tbody tr th {\n",
       "        vertical-align: top;\n",
       "    }\n",
       "\n",
       "    .dataframe thead th {\n",
       "        text-align: right;\n",
       "    }\n",
       "</style>\n",
       "<table border=\"1\" class=\"dataframe\">\n",
       "  <thead>\n",
       "    <tr style=\"text-align: right;\">\n",
       "      <th></th>\n",
       "      <th>Employee_Name</th>\n",
       "      <th>EmpID</th>\n",
       "      <th>MarriedID</th>\n",
       "      <th>MaritalStatusID</th>\n",
       "      <th>GenderID</th>\n",
       "      <th>EmpStatusID</th>\n",
       "      <th>DeptID</th>\n",
       "      <th>PerfScoreID</th>\n",
       "      <th>FromDiversityJobFairID</th>\n",
       "      <th>Salary</th>\n",
       "      <th>...</th>\n",
       "      <th>ManagerName</th>\n",
       "      <th>ManagerID</th>\n",
       "      <th>RecruitmentSource</th>\n",
       "      <th>PerformanceScore</th>\n",
       "      <th>EngagementSurvey</th>\n",
       "      <th>EmpSatisfaction</th>\n",
       "      <th>SpecialProjectsCount</th>\n",
       "      <th>LastPerformanceReview_Date</th>\n",
       "      <th>DaysLateLast30</th>\n",
       "      <th>Absences</th>\n",
       "    </tr>\n",
       "  </thead>\n",
       "  <tbody>\n",
       "    <tr>\n",
       "      <th>0</th>\n",
       "      <td>Adinolfi, Wilson  K</td>\n",
       "      <td>10026</td>\n",
       "      <td>0</td>\n",
       "      <td>0</td>\n",
       "      <td>1</td>\n",
       "      <td>1</td>\n",
       "      <td>5</td>\n",
       "      <td>4</td>\n",
       "      <td>0</td>\n",
       "      <td>62506</td>\n",
       "      <td>...</td>\n",
       "      <td>Michael Albert</td>\n",
       "      <td>22.0</td>\n",
       "      <td>LinkedIn</td>\n",
       "      <td>Exceeds</td>\n",
       "      <td>4.60</td>\n",
       "      <td>5</td>\n",
       "      <td>0</td>\n",
       "      <td>2019-01-17</td>\n",
       "      <td>0</td>\n",
       "      <td>1</td>\n",
       "    </tr>\n",
       "    <tr>\n",
       "      <th>1</th>\n",
       "      <td>Ait Sidi, Karthikeyan</td>\n",
       "      <td>10084</td>\n",
       "      <td>1</td>\n",
       "      <td>1</td>\n",
       "      <td>1</td>\n",
       "      <td>5</td>\n",
       "      <td>3</td>\n",
       "      <td>3</td>\n",
       "      <td>0</td>\n",
       "      <td>104437</td>\n",
       "      <td>...</td>\n",
       "      <td>Simon Roup</td>\n",
       "      <td>4.0</td>\n",
       "      <td>Indeed</td>\n",
       "      <td>Fully Meets</td>\n",
       "      <td>4.96</td>\n",
       "      <td>3</td>\n",
       "      <td>6</td>\n",
       "      <td>2016-02-24</td>\n",
       "      <td>0</td>\n",
       "      <td>17</td>\n",
       "    </tr>\n",
       "    <tr>\n",
       "      <th>2</th>\n",
       "      <td>Akinkuolie, Sarah</td>\n",
       "      <td>10196</td>\n",
       "      <td>1</td>\n",
       "      <td>1</td>\n",
       "      <td>0</td>\n",
       "      <td>5</td>\n",
       "      <td>5</td>\n",
       "      <td>3</td>\n",
       "      <td>0</td>\n",
       "      <td>64955</td>\n",
       "      <td>...</td>\n",
       "      <td>Kissy Sullivan</td>\n",
       "      <td>20.0</td>\n",
       "      <td>LinkedIn</td>\n",
       "      <td>Fully Meets</td>\n",
       "      <td>3.02</td>\n",
       "      <td>3</td>\n",
       "      <td>0</td>\n",
       "      <td>2012-05-15</td>\n",
       "      <td>0</td>\n",
       "      <td>3</td>\n",
       "    </tr>\n",
       "    <tr>\n",
       "      <th>3</th>\n",
       "      <td>Alagbe,Trina</td>\n",
       "      <td>10088</td>\n",
       "      <td>1</td>\n",
       "      <td>1</td>\n",
       "      <td>0</td>\n",
       "      <td>1</td>\n",
       "      <td>5</td>\n",
       "      <td>3</td>\n",
       "      <td>0</td>\n",
       "      <td>64991</td>\n",
       "      <td>...</td>\n",
       "      <td>Elijiah Gray</td>\n",
       "      <td>16.0</td>\n",
       "      <td>Indeed</td>\n",
       "      <td>Fully Meets</td>\n",
       "      <td>4.84</td>\n",
       "      <td>5</td>\n",
       "      <td>0</td>\n",
       "      <td>2019-01-03</td>\n",
       "      <td>0</td>\n",
       "      <td>15</td>\n",
       "    </tr>\n",
       "    <tr>\n",
       "      <th>4</th>\n",
       "      <td>Anderson, Carol</td>\n",
       "      <td>10069</td>\n",
       "      <td>0</td>\n",
       "      <td>2</td>\n",
       "      <td>0</td>\n",
       "      <td>5</td>\n",
       "      <td>5</td>\n",
       "      <td>3</td>\n",
       "      <td>0</td>\n",
       "      <td>50825</td>\n",
       "      <td>...</td>\n",
       "      <td>Webster Butler</td>\n",
       "      <td>39.0</td>\n",
       "      <td>Google Search</td>\n",
       "      <td>Fully Meets</td>\n",
       "      <td>5.00</td>\n",
       "      <td>4</td>\n",
       "      <td>0</td>\n",
       "      <td>2016-02-01</td>\n",
       "      <td>0</td>\n",
       "      <td>2</td>\n",
       "    </tr>\n",
       "  </tbody>\n",
       "</table>\n",
       "<p>5 rows × 36 columns</p>\n",
       "</div>"
      ],
      "text/plain": [
       "              Employee_Name  EmpID  MarriedID  MaritalStatusID  GenderID  \\\n",
       "0       Adinolfi, Wilson  K  10026          0                0         1   \n",
       "1  Ait Sidi, Karthikeyan     10084          1                1         1   \n",
       "2         Akinkuolie, Sarah  10196          1                1         0   \n",
       "3              Alagbe,Trina  10088          1                1         0   \n",
       "4          Anderson, Carol   10069          0                2         0   \n",
       "\n",
       "   EmpStatusID  DeptID  PerfScoreID  FromDiversityJobFairID  Salary  ...  \\\n",
       "0            1       5            4                       0   62506  ...   \n",
       "1            5       3            3                       0  104437  ...   \n",
       "2            5       5            3                       0   64955  ...   \n",
       "3            1       5            3                       0   64991  ...   \n",
       "4            5       5            3                       0   50825  ...   \n",
       "\n",
       "      ManagerName  ManagerID RecruitmentSource PerformanceScore  \\\n",
       "0  Michael Albert       22.0          LinkedIn          Exceeds   \n",
       "1      Simon Roup        4.0            Indeed      Fully Meets   \n",
       "2  Kissy Sullivan       20.0          LinkedIn      Fully Meets   \n",
       "3    Elijiah Gray       16.0            Indeed      Fully Meets   \n",
       "4  Webster Butler       39.0     Google Search      Fully Meets   \n",
       "\n",
       "   EngagementSurvey EmpSatisfaction SpecialProjectsCount  \\\n",
       "0              4.60               5                    0   \n",
       "1              4.96               3                    6   \n",
       "2              3.02               3                    0   \n",
       "3              4.84               5                    0   \n",
       "4              5.00               4                    0   \n",
       "\n",
       "  LastPerformanceReview_Date DaysLateLast30 Absences  \n",
       "0                 2019-01-17              0        1  \n",
       "1                 2016-02-24              0       17  \n",
       "2                 2012-05-15              0        3  \n",
       "3                 2019-01-03              0       15  \n",
       "4                 2016-02-01              0        2  \n",
       "\n",
       "[5 rows x 36 columns]"
      ]
     },
     "execution_count": 2,
     "metadata": {},
     "output_type": "execute_result"
    }
   ],
   "source": [
    "df = pd.read_excel(\"C:\\\\Users\\\\Montassar\\\\Desktop\\\\HR Data analysis projects\\\\HR Data.xlsx\")\n",
    "df.head()"
   ]
  },
  {
   "cell_type": "code",
   "execution_count": 3,
   "id": "bdc8ad4d-02eb-42cf-b0e8-fcecce2acf7a",
   "metadata": {},
   "outputs": [
    {
     "name": "stdout",
     "output_type": "stream",
     "text": [
      "<class 'pandas.core.frame.DataFrame'>\n",
      "RangeIndex: 311 entries, 0 to 310\n",
      "Data columns (total 36 columns):\n",
      " #   Column                      Non-Null Count  Dtype         \n",
      "---  ------                      --------------  -----         \n",
      " 0   Employee_Name               311 non-null    object        \n",
      " 1   EmpID                       311 non-null    int64         \n",
      " 2   MarriedID                   311 non-null    int64         \n",
      " 3   MaritalStatusID             311 non-null    int64         \n",
      " 4   GenderID                    311 non-null    int64         \n",
      " 5   EmpStatusID                 311 non-null    int64         \n",
      " 6   DeptID                      311 non-null    int64         \n",
      " 7   PerfScoreID                 311 non-null    int64         \n",
      " 8   FromDiversityJobFairID      311 non-null    int64         \n",
      " 9   Salary                      311 non-null    int64         \n",
      " 10  Termd                       311 non-null    int64         \n",
      " 11  PositionID                  311 non-null    int64         \n",
      " 12  Position                    311 non-null    object        \n",
      " 13  State                       311 non-null    object        \n",
      " 14  Zip                         311 non-null    int64         \n",
      " 15  DOB                         311 non-null    datetime64[ns]\n",
      " 16  Sex                         311 non-null    object        \n",
      " 17  MaritalDesc                 311 non-null    object        \n",
      " 18  CitizenDesc                 311 non-null    object        \n",
      " 19  HispanicLatino              311 non-null    object        \n",
      " 20  RaceDesc                    311 non-null    object        \n",
      " 21  DateofHire                  311 non-null    datetime64[ns]\n",
      " 22  DateofTermination           104 non-null    datetime64[ns]\n",
      " 23  TermReason                  311 non-null    object        \n",
      " 24  EmploymentStatus            311 non-null    object        \n",
      " 25  Department                  311 non-null    object        \n",
      " 26  ManagerName                 311 non-null    object        \n",
      " 27  ManagerID                   303 non-null    float64       \n",
      " 28  RecruitmentSource           311 non-null    object        \n",
      " 29  PerformanceScore            311 non-null    object        \n",
      " 30  EngagementSurvey            311 non-null    float64       \n",
      " 31  EmpSatisfaction             311 non-null    int64         \n",
      " 32  SpecialProjectsCount        311 non-null    int64         \n",
      " 33  LastPerformanceReview_Date  311 non-null    datetime64[ns]\n",
      " 34  DaysLateLast30              311 non-null    int64         \n",
      " 35  Absences                    311 non-null    int64         \n",
      "dtypes: datetime64[ns](4), float64(2), int64(16), object(14)\n",
      "memory usage: 87.6+ KB\n"
     ]
    }
   ],
   "source": [
    "df.info()"
   ]
  },
  {
   "cell_type": "code",
   "execution_count": 4,
   "id": "ddd367b2-0b1e-409d-bde5-07370c06f8bc",
   "metadata": {},
   "outputs": [
    {
     "data": {
      "text/html": [
       "<div>\n",
       "<style scoped>\n",
       "    .dataframe tbody tr th:only-of-type {\n",
       "        vertical-align: middle;\n",
       "    }\n",
       "\n",
       "    .dataframe tbody tr th {\n",
       "        vertical-align: top;\n",
       "    }\n",
       "\n",
       "    .dataframe thead th {\n",
       "        text-align: right;\n",
       "    }\n",
       "</style>\n",
       "<table border=\"1\" class=\"dataframe\">\n",
       "  <thead>\n",
       "    <tr style=\"text-align: right;\">\n",
       "      <th></th>\n",
       "      <th>EmpID</th>\n",
       "      <th>MarriedID</th>\n",
       "      <th>MaritalStatusID</th>\n",
       "      <th>GenderID</th>\n",
       "      <th>EmpStatusID</th>\n",
       "      <th>DeptID</th>\n",
       "      <th>PerfScoreID</th>\n",
       "      <th>FromDiversityJobFairID</th>\n",
       "      <th>Salary</th>\n",
       "      <th>Termd</th>\n",
       "      <th>...</th>\n",
       "      <th>DOB</th>\n",
       "      <th>DateofHire</th>\n",
       "      <th>DateofTermination</th>\n",
       "      <th>ManagerID</th>\n",
       "      <th>EngagementSurvey</th>\n",
       "      <th>EmpSatisfaction</th>\n",
       "      <th>SpecialProjectsCount</th>\n",
       "      <th>LastPerformanceReview_Date</th>\n",
       "      <th>DaysLateLast30</th>\n",
       "      <th>Absences</th>\n",
       "    </tr>\n",
       "  </thead>\n",
       "  <tbody>\n",
       "    <tr>\n",
       "      <th>count</th>\n",
       "      <td>311.000000</td>\n",
       "      <td>311.000000</td>\n",
       "      <td>311.000000</td>\n",
       "      <td>311.000000</td>\n",
       "      <td>311.000000</td>\n",
       "      <td>311.000000</td>\n",
       "      <td>311.000000</td>\n",
       "      <td>311.000000</td>\n",
       "      <td>311.000000</td>\n",
       "      <td>311.000000</td>\n",
       "      <td>...</td>\n",
       "      <td>311</td>\n",
       "      <td>311</td>\n",
       "      <td>104</td>\n",
       "      <td>303.000000</td>\n",
       "      <td>311.000000</td>\n",
       "      <td>311.000000</td>\n",
       "      <td>311.000000</td>\n",
       "      <td>311</td>\n",
       "      <td>311.000000</td>\n",
       "      <td>311.000000</td>\n",
       "    </tr>\n",
       "    <tr>\n",
       "      <th>mean</th>\n",
       "      <td>10156.000000</td>\n",
       "      <td>0.398714</td>\n",
       "      <td>0.810289</td>\n",
       "      <td>0.434084</td>\n",
       "      <td>2.392283</td>\n",
       "      <td>4.610932</td>\n",
       "      <td>2.977492</td>\n",
       "      <td>0.093248</td>\n",
       "      <td>69020.684887</td>\n",
       "      <td>0.334405</td>\n",
       "      <td>...</td>\n",
       "      <td>1979-02-06 09:48:02.315112544</td>\n",
       "      <td>2013-02-03 22:50:32.797427712</td>\n",
       "      <td>2015-06-14 11:46:09.230769152</td>\n",
       "      <td>14.570957</td>\n",
       "      <td>4.110000</td>\n",
       "      <td>3.890675</td>\n",
       "      <td>1.218650</td>\n",
       "      <td>2017-09-10 21:17:56.527331072</td>\n",
       "      <td>0.414791</td>\n",
       "      <td>10.237942</td>\n",
       "    </tr>\n",
       "    <tr>\n",
       "      <th>min</th>\n",
       "      <td>10001.000000</td>\n",
       "      <td>0.000000</td>\n",
       "      <td>0.000000</td>\n",
       "      <td>0.000000</td>\n",
       "      <td>1.000000</td>\n",
       "      <td>1.000000</td>\n",
       "      <td>1.000000</td>\n",
       "      <td>0.000000</td>\n",
       "      <td>45046.000000</td>\n",
       "      <td>0.000000</td>\n",
       "      <td>...</td>\n",
       "      <td>1951-01-02 00:00:00</td>\n",
       "      <td>2006-01-09 00:00:00</td>\n",
       "      <td>2010-08-30 00:00:00</td>\n",
       "      <td>1.000000</td>\n",
       "      <td>1.120000</td>\n",
       "      <td>1.000000</td>\n",
       "      <td>0.000000</td>\n",
       "      <td>2010-07-14 00:00:00</td>\n",
       "      <td>0.000000</td>\n",
       "      <td>1.000000</td>\n",
       "    </tr>\n",
       "    <tr>\n",
       "      <th>25%</th>\n",
       "      <td>10078.500000</td>\n",
       "      <td>0.000000</td>\n",
       "      <td>0.000000</td>\n",
       "      <td>0.000000</td>\n",
       "      <td>1.000000</td>\n",
       "      <td>5.000000</td>\n",
       "      <td>3.000000</td>\n",
       "      <td>0.000000</td>\n",
       "      <td>55501.500000</td>\n",
       "      <td>0.000000</td>\n",
       "      <td>...</td>\n",
       "      <td>1973-12-03 00:00:00</td>\n",
       "      <td>2011-07-11 00:00:00</td>\n",
       "      <td>2014-01-10 12:00:00</td>\n",
       "      <td>10.000000</td>\n",
       "      <td>3.690000</td>\n",
       "      <td>3.000000</td>\n",
       "      <td>0.000000</td>\n",
       "      <td>2016-03-19 12:00:00</td>\n",
       "      <td>0.000000</td>\n",
       "      <td>5.000000</td>\n",
       "    </tr>\n",
       "    <tr>\n",
       "      <th>50%</th>\n",
       "      <td>10156.000000</td>\n",
       "      <td>0.000000</td>\n",
       "      <td>1.000000</td>\n",
       "      <td>0.000000</td>\n",
       "      <td>1.000000</td>\n",
       "      <td>5.000000</td>\n",
       "      <td>3.000000</td>\n",
       "      <td>0.000000</td>\n",
       "      <td>62810.000000</td>\n",
       "      <td>0.000000</td>\n",
       "      <td>...</td>\n",
       "      <td>1980-09-30 00:00:00</td>\n",
       "      <td>2013-02-18 00:00:00</td>\n",
       "      <td>2015-09-22 00:00:00</td>\n",
       "      <td>15.000000</td>\n",
       "      <td>4.280000</td>\n",
       "      <td>4.000000</td>\n",
       "      <td>0.000000</td>\n",
       "      <td>2019-01-16 00:00:00</td>\n",
       "      <td>0.000000</td>\n",
       "      <td>10.000000</td>\n",
       "    </tr>\n",
       "    <tr>\n",
       "      <th>75%</th>\n",
       "      <td>10233.500000</td>\n",
       "      <td>1.000000</td>\n",
       "      <td>1.000000</td>\n",
       "      <td>1.000000</td>\n",
       "      <td>5.000000</td>\n",
       "      <td>5.000000</td>\n",
       "      <td>3.000000</td>\n",
       "      <td>0.000000</td>\n",
       "      <td>72036.000000</td>\n",
       "      <td>1.000000</td>\n",
       "      <td>...</td>\n",
       "      <td>1986-05-29 12:00:00</td>\n",
       "      <td>2014-09-23 12:00:00</td>\n",
       "      <td>2016-09-08 06:00:00</td>\n",
       "      <td>19.000000</td>\n",
       "      <td>4.700000</td>\n",
       "      <td>5.000000</td>\n",
       "      <td>0.000000</td>\n",
       "      <td>2019-02-04 00:00:00</td>\n",
       "      <td>0.000000</td>\n",
       "      <td>15.000000</td>\n",
       "    </tr>\n",
       "    <tr>\n",
       "      <th>max</th>\n",
       "      <td>10311.000000</td>\n",
       "      <td>1.000000</td>\n",
       "      <td>4.000000</td>\n",
       "      <td>1.000000</td>\n",
       "      <td>5.000000</td>\n",
       "      <td>6.000000</td>\n",
       "      <td>4.000000</td>\n",
       "      <td>1.000000</td>\n",
       "      <td>250000.000000</td>\n",
       "      <td>1.000000</td>\n",
       "      <td>...</td>\n",
       "      <td>1992-08-17 00:00:00</td>\n",
       "      <td>2018-07-09 00:00:00</td>\n",
       "      <td>2018-11-10 00:00:00</td>\n",
       "      <td>39.000000</td>\n",
       "      <td>5.000000</td>\n",
       "      <td>5.000000</td>\n",
       "      <td>8.000000</td>\n",
       "      <td>2019-02-28 00:00:00</td>\n",
       "      <td>6.000000</td>\n",
       "      <td>20.000000</td>\n",
       "    </tr>\n",
       "    <tr>\n",
       "      <th>std</th>\n",
       "      <td>89.922189</td>\n",
       "      <td>0.490423</td>\n",
       "      <td>0.943239</td>\n",
       "      <td>0.496435</td>\n",
       "      <td>1.794383</td>\n",
       "      <td>1.083487</td>\n",
       "      <td>0.587072</td>\n",
       "      <td>0.291248</td>\n",
       "      <td>25156.636930</td>\n",
       "      <td>0.472542</td>\n",
       "      <td>...</td>\n",
       "      <td>NaN</td>\n",
       "      <td>NaN</td>\n",
       "      <td>NaN</td>\n",
       "      <td>8.078306</td>\n",
       "      <td>0.789938</td>\n",
       "      <td>0.909241</td>\n",
       "      <td>2.349421</td>\n",
       "      <td>NaN</td>\n",
       "      <td>1.294519</td>\n",
       "      <td>5.852596</td>\n",
       "    </tr>\n",
       "  </tbody>\n",
       "</table>\n",
       "<p>8 rows × 22 columns</p>\n",
       "</div>"
      ],
      "text/plain": [
       "              EmpID   MarriedID  MaritalStatusID    GenderID  EmpStatusID  \\\n",
       "count    311.000000  311.000000       311.000000  311.000000   311.000000   \n",
       "mean   10156.000000    0.398714         0.810289    0.434084     2.392283   \n",
       "min    10001.000000    0.000000         0.000000    0.000000     1.000000   \n",
       "25%    10078.500000    0.000000         0.000000    0.000000     1.000000   \n",
       "50%    10156.000000    0.000000         1.000000    0.000000     1.000000   \n",
       "75%    10233.500000    1.000000         1.000000    1.000000     5.000000   \n",
       "max    10311.000000    1.000000         4.000000    1.000000     5.000000   \n",
       "std       89.922189    0.490423         0.943239    0.496435     1.794383   \n",
       "\n",
       "           DeptID  PerfScoreID  FromDiversityJobFairID         Salary  \\\n",
       "count  311.000000   311.000000              311.000000     311.000000   \n",
       "mean     4.610932     2.977492                0.093248   69020.684887   \n",
       "min      1.000000     1.000000                0.000000   45046.000000   \n",
       "25%      5.000000     3.000000                0.000000   55501.500000   \n",
       "50%      5.000000     3.000000                0.000000   62810.000000   \n",
       "75%      5.000000     3.000000                0.000000   72036.000000   \n",
       "max      6.000000     4.000000                1.000000  250000.000000   \n",
       "std      1.083487     0.587072                0.291248   25156.636930   \n",
       "\n",
       "            Termd  ...                            DOB  \\\n",
       "count  311.000000  ...                            311   \n",
       "mean     0.334405  ...  1979-02-06 09:48:02.315112544   \n",
       "min      0.000000  ...            1951-01-02 00:00:00   \n",
       "25%      0.000000  ...            1973-12-03 00:00:00   \n",
       "50%      0.000000  ...            1980-09-30 00:00:00   \n",
       "75%      1.000000  ...            1986-05-29 12:00:00   \n",
       "max      1.000000  ...            1992-08-17 00:00:00   \n",
       "std      0.472542  ...                            NaN   \n",
       "\n",
       "                          DateofHire              DateofTermination  \\\n",
       "count                            311                            104   \n",
       "mean   2013-02-03 22:50:32.797427712  2015-06-14 11:46:09.230769152   \n",
       "min              2006-01-09 00:00:00            2010-08-30 00:00:00   \n",
       "25%              2011-07-11 00:00:00            2014-01-10 12:00:00   \n",
       "50%              2013-02-18 00:00:00            2015-09-22 00:00:00   \n",
       "75%              2014-09-23 12:00:00            2016-09-08 06:00:00   \n",
       "max              2018-07-09 00:00:00            2018-11-10 00:00:00   \n",
       "std                              NaN                            NaN   \n",
       "\n",
       "        ManagerID EngagementSurvey  EmpSatisfaction  SpecialProjectsCount  \\\n",
       "count  303.000000       311.000000       311.000000            311.000000   \n",
       "mean    14.570957         4.110000         3.890675              1.218650   \n",
       "min      1.000000         1.120000         1.000000              0.000000   \n",
       "25%     10.000000         3.690000         3.000000              0.000000   \n",
       "50%     15.000000         4.280000         4.000000              0.000000   \n",
       "75%     19.000000         4.700000         5.000000              0.000000   \n",
       "max     39.000000         5.000000         5.000000              8.000000   \n",
       "std      8.078306         0.789938         0.909241              2.349421   \n",
       "\n",
       "          LastPerformanceReview_Date  DaysLateLast30    Absences  \n",
       "count                            311      311.000000  311.000000  \n",
       "mean   2017-09-10 21:17:56.527331072        0.414791   10.237942  \n",
       "min              2010-07-14 00:00:00        0.000000    1.000000  \n",
       "25%              2016-03-19 12:00:00        0.000000    5.000000  \n",
       "50%              2019-01-16 00:00:00        0.000000   10.000000  \n",
       "75%              2019-02-04 00:00:00        0.000000   15.000000  \n",
       "max              2019-02-28 00:00:00        6.000000   20.000000  \n",
       "std                              NaN        1.294519    5.852596  \n",
       "\n",
       "[8 rows x 22 columns]"
      ]
     },
     "execution_count": 4,
     "metadata": {},
     "output_type": "execute_result"
    }
   ],
   "source": [
    "df.describe()"
   ]
  },
  {
   "cell_type": "code",
   "execution_count": 5,
   "id": "218916fb-14ff-4466-84ca-36591903b29f",
   "metadata": {},
   "outputs": [
    {
     "data": {
      "text/plain": [
       "6"
      ]
     },
     "execution_count": 5,
     "metadata": {},
     "output_type": "execute_result"
    }
   ],
   "source": [
    "df['Department'].nunique()"
   ]
  },
  {
   "cell_type": "markdown",
   "id": "dea7d26f-281a-46f9-9fa5-1e6ce8e29421",
   "metadata": {},
   "source": [
    "***Data Warehouse Connection***"
   ]
  },
  {
   "cell_type": "code",
   "execution_count": 6,
   "id": "2b3df29b-d6db-4c7c-b57f-9f261ebe2a50",
   "metadata": {},
   "outputs": [],
   "source": [
    "# PostgreSQL connection parameters\n",
    "databaseConfig = {\n",
    "    'dbname': 'HR_DATA_W',\n",
    "    'user': 'postgres',\n",
    "    'password': 'pfe',\n",
    "    'port': '5432',\n",
    "    'host': 'localhost'\n",
    "}"
   ]
  },
  {
   "cell_type": "code",
   "execution_count": 7,
   "id": "0cde8b2f-f77c-44f1-acc5-63924d758063",
   "metadata": {},
   "outputs": [],
   "source": [
    "# Build the connection string\n",
    "connection_string = (\n",
    "    f\"postgresql+psycopg2://{databaseConfig['user']}:{databaseConfig['password']}@\"\n",
    "    f\"{databaseConfig['host']}:{databaseConfig['port']}/{databaseConfig['dbname']}\"\n",
    ")"
   ]
  },
  {
   "cell_type": "code",
   "execution_count": 8,
   "id": "e472383d-76f3-408c-848b-6d3139e230ce",
   "metadata": {},
   "outputs": [],
   "source": [
    "# Create the database engine\n",
    "engine = create_engine(connection_string)"
   ]
  },
  {
   "cell_type": "markdown",
   "id": "cac9d094-b9fb-4eaf-8132-089d80ea0e2d",
   "metadata": {},
   "source": [
    "***Transforming then Loading data in data warehouse***"
   ]
  },
  {
   "cell_type": "markdown",
   "id": "cb9402d2-7a7b-4cd6-a59c-049e19a64e5b",
   "metadata": {},
   "source": [
    "***Dim_Position***"
   ]
  },
  {
   "cell_type": "code",
   "execution_count": 9,
   "id": "bff51adf-fc48-4542-bfee-27e076aadf1a",
   "metadata": {},
   "outputs": [],
   "source": [
    "# Extract relevant columns\n",
    "Dim_Position = df[['Position']].drop_duplicates()"
   ]
  },
  {
   "cell_type": "code",
   "execution_count": 10,
   "id": "ba9f2486-fb91-483b-9703-8fa4e8274db8",
   "metadata": {},
   "outputs": [
    {
     "data": {
      "text/plain": [
       "32"
      ]
     },
     "execution_count": 10,
     "metadata": {},
     "output_type": "execute_result"
    }
   ],
   "source": [
    "# Load data into Dim_Position table\n",
    "Dim_Position.to_sql('Dim_Position', con=engine, if_exists='append', index=False)"
   ]
  },
  {
   "cell_type": "markdown",
   "id": "947273da-a79c-4a7d-af77-ad81980b3fa9",
   "metadata": {},
   "source": [
    "***Dim_Department***"
   ]
  },
  {
   "cell_type": "code",
   "execution_count": 11,
   "id": "184210a2-f91d-4894-96c4-af332342e7c1",
   "metadata": {
    "scrolled": true
   },
   "outputs": [],
   "source": [
    "# Extract relevant columns\n",
    "Dim_Department = df[['Department']].drop_duplicates()"
   ]
  },
  {
   "cell_type": "code",
   "execution_count": 12,
   "id": "a93748b5-618c-4efd-8e90-65013c7adbcd",
   "metadata": {},
   "outputs": [
    {
     "data": {
      "text/plain": [
       "6"
      ]
     },
     "execution_count": 12,
     "metadata": {},
     "output_type": "execute_result"
    }
   ],
   "source": [
    "# Load data into Dim_Department table\n",
    "Dim_Department.to_sql('Dim_Department', con=engine, if_exists='append', index=False)"
   ]
  },
  {
   "cell_type": "markdown",
   "id": "27389994-fec6-40d9-ba3c-62f8b85c9420",
   "metadata": {},
   "source": [
    "***Dim_Employee***"
   ]
  },
  {
   "cell_type": "code",
   "execution_count": 13,
   "id": "9151aa46-a175-4e89-829c-365773989b3e",
   "metadata": {},
   "outputs": [],
   "source": [
    "# Extract the relevant columns\n",
    "Dim_Employee = df[['Employee_Name', 'DOB', 'Sex','RaceDesc', 'MaritalDesc', 'State', 'CitizenDesc', 'DateofHire', \n",
    "                   'RecruitmentSource', 'Position', 'Department', 'EmploymentStatus']].drop_duplicates()"
   ]
  },
  {
   "cell_type": "code",
   "execution_count": 14,
   "id": "cfa1105f-a09e-461d-82c5-864c689f084f",
   "metadata": {},
   "outputs": [],
   "source": [
    "# Convert the DOB column to datetime format and calculate the age by subtracting DOB from today's date\n",
    "Dim_Employee['DOB'] = pd.to_datetime(Dim_Employee['DOB'])\n",
    "today = pd.to_datetime('today')\n",
    "Dim_Employee['Age'] = (today - Dim_Employee['DOB']).dt.days / 365.25\n",
    "Dim_Employee['Age'] = Dim_Employee['Age'].astype(int)"
   ]
  },
  {
   "cell_type": "code",
   "execution_count": 15,
   "id": "65bf488a-9d5d-44d8-a77b-6b2dcb96d6f5",
   "metadata": {},
   "outputs": [
    {
     "data": {
      "text/html": [
       "<div>\n",
       "<style scoped>\n",
       "    .dataframe tbody tr th:only-of-type {\n",
       "        vertical-align: middle;\n",
       "    }\n",
       "\n",
       "    .dataframe tbody tr th {\n",
       "        vertical-align: top;\n",
       "    }\n",
       "\n",
       "    .dataframe thead th {\n",
       "        text-align: right;\n",
       "    }\n",
       "</style>\n",
       "<table border=\"1\" class=\"dataframe\">\n",
       "  <thead>\n",
       "    <tr style=\"text-align: right;\">\n",
       "      <th></th>\n",
       "      <th>Employee_Name</th>\n",
       "      <th>Age</th>\n",
       "    </tr>\n",
       "  </thead>\n",
       "  <tbody>\n",
       "    <tr>\n",
       "      <th>0</th>\n",
       "      <td>Adinolfi, Wilson  K</td>\n",
       "      <td>41</td>\n",
       "    </tr>\n",
       "    <tr>\n",
       "      <th>1</th>\n",
       "      <td>Ait Sidi, Karthikeyan</td>\n",
       "      <td>49</td>\n",
       "    </tr>\n",
       "    <tr>\n",
       "      <th>2</th>\n",
       "      <td>Akinkuolie, Sarah</td>\n",
       "      <td>35</td>\n",
       "    </tr>\n",
       "    <tr>\n",
       "      <th>3</th>\n",
       "      <td>Alagbe,Trina</td>\n",
       "      <td>35</td>\n",
       "    </tr>\n",
       "    <tr>\n",
       "      <th>4</th>\n",
       "      <td>Anderson, Carol</td>\n",
       "      <td>34</td>\n",
       "    </tr>\n",
       "  </tbody>\n",
       "</table>\n",
       "</div>"
      ],
      "text/plain": [
       "              Employee_Name  Age\n",
       "0       Adinolfi, Wilson  K   41\n",
       "1  Ait Sidi, Karthikeyan      49\n",
       "2         Akinkuolie, Sarah   35\n",
       "3              Alagbe,Trina   35\n",
       "4          Anderson, Carol    34"
      ]
     },
     "execution_count": 15,
     "metadata": {},
     "output_type": "execute_result"
    }
   ],
   "source": [
    "Dim_Employee[['Employee_Name','Age']].head()"
   ]
  },
  {
   "cell_type": "code",
   "execution_count": 16,
   "id": "29bc3788-5cb1-4640-8ab0-b1892a735bfc",
   "metadata": {},
   "outputs": [],
   "source": [
    "# Create the Attrition column\n",
    "Dim_Employee['Attrition'] = Dim_Employee['EmploymentStatus'].apply(lambda x: 'Yes' if x != 'Active' else 'No')"
   ]
  },
  {
   "cell_type": "code",
   "execution_count": 17,
   "id": "eff40cec-40a8-4277-8416-47e2fc276057",
   "metadata": {},
   "outputs": [],
   "source": [
    "# Rename columns to match the data warehouse i created in postgre database\n",
    "Dim_Employee = Dim_Employee.rename(columns={\n",
    "    'Sex': 'Gender',\n",
    "    'RaceDesc': 'Race',\n",
    "    'MaritalDesc': 'Marital_Status',\n",
    "    'CitizenDesc': 'Citizen_Description',\n",
    "    'DateofHire': 'Date_Of_Hire',\n",
    "    'RecruitmentSource': 'Recruitment_Source'\n",
    "})"
   ]
  },
  {
   "cell_type": "code",
   "execution_count": 18,
   "id": "3958d02f-6a78-43e6-b72b-917007092743",
   "metadata": {},
   "outputs": [
    {
     "data": {
      "text/plain": [
       "Index(['Employee_Name', 'DOB', 'Gender', 'Race', 'Marital_Status', 'State',\n",
       "       'Citizen_Description', 'Date_Of_Hire', 'Recruitment_Source', 'Position',\n",
       "       'Department', 'EmploymentStatus', 'Age', 'Attrition'],\n",
       "      dtype='object')"
      ]
     },
     "execution_count": 18,
     "metadata": {},
     "output_type": "execute_result"
    }
   ],
   "source": [
    "Dim_Employee.columns"
   ]
  },
  {
   "cell_type": "code",
   "execution_count": 19,
   "id": "fbc4b760-2223-49f1-8c22-8f3f29f0f725",
   "metadata": {},
   "outputs": [],
   "source": [
    "# Extract relevant columns from the dimension tables\n",
    "query_position = 'SELECT \"Position_ID\", \"Position\" FROM \"Dim_Position\"'\n",
    "query_department = 'SELECT \"Department_ID\", \"Department\" FROM \"Dim_Department\"'\n",
    "\n",
    "df_position_ids = pd.read_sql(query_position, con=engine)\n",
    "df_department_ids = pd.read_sql(query_department, con=engine)"
   ]
  },
  {
   "cell_type": "code",
   "execution_count": 20,
   "id": "85fbaf0d-317e-473e-adf7-33a6afcd3197",
   "metadata": {},
   "outputs": [],
   "source": [
    "# Merging Dim_Employee with related dimensions\n",
    "Dim_Employee = Dim_Employee.merge(df_position_ids, on='Position', how='left')\n",
    "Dim_Employee = Dim_Employee.merge(df_department_ids, on='Department', how='left')"
   ]
  },
  {
   "cell_type": "code",
   "execution_count": 21,
   "id": "f9e54eef-da79-4c19-b44d-f5dd06cd42fc",
   "metadata": {},
   "outputs": [],
   "source": [
    "# Reorder the columns matching the data warehouse structure\n",
    "Dim_Employee = Dim_Employee[['Employee_Name', 'Age', 'Gender', 'Race', 'Marital_Status', 'State', 'Citizen_Description', 'Date_Of_Hire', \n",
    "                             'Recruitment_Source', 'Attrition', 'Position_ID', 'Department_ID']]"
   ]
  },
  {
   "cell_type": "code",
   "execution_count": 22,
   "id": "01f20615-3648-4506-8581-04d026952ebe",
   "metadata": {},
   "outputs": [
    {
     "data": {
      "text/plain": [
       "311"
      ]
     },
     "execution_count": 22,
     "metadata": {},
     "output_type": "execute_result"
    }
   ],
   "source": [
    "# Load data into Dim_Employee table\n",
    "Dim_Employee.to_sql('Dim_Employee', con=engine, if_exists='append', index=False)"
   ]
  },
  {
   "cell_type": "markdown",
   "id": "8623dcda-eab0-42f7-8145-0cb0a73598b1",
   "metadata": {},
   "source": [
    "***Dim_Termination***"
   ]
  },
  {
   "cell_type": "code",
   "execution_count": 23,
   "id": "b23e72c6-2bed-4f28-844b-264d9c525514",
   "metadata": {},
   "outputs": [],
   "source": [
    "# Extract relevant columns\n",
    "Dim_Termination = df[['TermReason', 'DateofTermination', 'Employee_Name']].drop_duplicates()"
   ]
  },
  {
   "cell_type": "code",
   "execution_count": 24,
   "id": "edc40a50-c426-44cd-92af-377c7ebabf9d",
   "metadata": {},
   "outputs": [
    {
     "data": {
      "text/plain": [
       "TermReason           311\n",
       "DateofTermination    104\n",
       "Employee_Name        311\n",
       "dtype: int64"
      ]
     },
     "execution_count": 24,
     "metadata": {},
     "output_type": "execute_result"
    }
   ],
   "source": [
    "Dim_Termination.count()"
   ]
  },
  {
   "cell_type": "code",
   "execution_count": 25,
   "id": "5a7acfab-f8b1-458c-996c-62f189f15dd3",
   "metadata": {},
   "outputs": [],
   "source": [
    "# Retrieve needed columns that i loaded in the data warehouse for the join\n",
    "query = 'SELECT \"Employee_ID\", \"Employee_Name\" FROM \"Dim_Employee\"'\n",
    "df_employee_ids = pd.read_sql(query, con=engine)"
   ]
  },
  {
   "cell_type": "code",
   "execution_count": 26,
   "id": "ce5f03af-a7bc-4937-ba0e-7ec2960e4cfe",
   "metadata": {},
   "outputs": [],
   "source": [
    "# Rename columns\n",
    "Dim_Termination = Dim_Termination.rename(columns={\n",
    "    'TermReason': 'Termination_Reason',\n",
    "    'DateofTermination': 'Termination_Date'\n",
    "})"
   ]
  },
  {
   "cell_type": "code",
   "execution_count": 27,
   "id": "6713cee1-d0e1-4ba7-b52d-a80eb6fe8e5d",
   "metadata": {},
   "outputs": [],
   "source": [
    "# Merge Projects data with employee IDs based on 'Name'\n",
    "Dim_Termination = Dim_Termination.merge(df_employee_ids, on='Employee_Name', how='left')"
   ]
  },
  {
   "cell_type": "code",
   "execution_count": 28,
   "id": "43d4684c-741f-4d22-ab91-59877d5226c4",
   "metadata": {},
   "outputs": [],
   "source": [
    "# Reorder the columns matching the data warehouse structure\n",
    "Dim_Termination = Dim_Termination[['Termination_Reason', 'Termination_Date', 'Employee_ID']]"
   ]
  },
  {
   "cell_type": "code",
   "execution_count": 29,
   "id": "bd21b029-15de-4127-84c9-baeb97385b92",
   "metadata": {},
   "outputs": [
    {
     "data": {
      "text/plain": [
       "311"
      ]
     },
     "execution_count": 29,
     "metadata": {},
     "output_type": "execute_result"
    }
   ],
   "source": [
    "# Load data into Dim_Termination table\n",
    "Dim_Termination.to_sql('Dim_Termination', con=engine, if_exists='append', index=False)"
   ]
  },
  {
   "cell_type": "markdown",
   "id": "94b73eba-2ac2-4567-a37c-d83f910ce89f",
   "metadata": {},
   "source": [
    "***Fact_Salary***"
   ]
  },
  {
   "cell_type": "code",
   "execution_count": 30,
   "id": "5e51bf0c-1984-4346-984a-eb8077146b8e",
   "metadata": {},
   "outputs": [],
   "source": [
    "# Extract relevant columns\n",
    "Fact_Salary = df[['Employee_Name', 'Salary']].drop_duplicates()"
   ]
  },
  {
   "cell_type": "code",
   "execution_count": 31,
   "id": "0f7c6ac7-8277-4d16-bab9-f7f131bb5313",
   "metadata": {},
   "outputs": [],
   "source": [
    "# Retrieve needed columns\n",
    "query_employee = 'SELECT \"Employee_ID\", \"Employee_Name\" FROM \"Dim_Employee\"'\n",
    "\n",
    "df_employee_ids = pd.read_sql(query_employee, con=engine)"
   ]
  },
  {
   "cell_type": "code",
   "execution_count": 32,
   "id": "b576a55f-a8a0-445b-9d87-e3b54fa73ff4",
   "metadata": {},
   "outputs": [],
   "source": [
    "# Merge Fact_Salary with Dim_Employee by Employee_Name\n",
    "Fact_Salary = Fact_Salary.merge(df_employee_ids, on='Employee_Name', how='left')"
   ]
  },
  {
   "cell_type": "code",
   "execution_count": 33,
   "id": "fe3706e9-9402-44ee-84b6-d94a82820038",
   "metadata": {},
   "outputs": [],
   "source": [
    "# Reorder the columns matching the data warehouse structure\n",
    "Fact_Salary = Fact_Salary[['Employee_ID', 'Salary']]"
   ]
  },
  {
   "cell_type": "code",
   "execution_count": 34,
   "id": "1432c0de-f7ef-4e9a-b48c-c0b0dc4c17bb",
   "metadata": {},
   "outputs": [
    {
     "data": {
      "text/plain": [
       "311"
      ]
     },
     "execution_count": 34,
     "metadata": {},
     "output_type": "execute_result"
    }
   ],
   "source": [
    "# Load data into Fact_Salary table\n",
    "Fact_Salary.to_sql('Fact_Salary', con=engine, if_exists='append', index=False)"
   ]
  },
  {
   "cell_type": "markdown",
   "id": "c008f05a-3d25-4a21-b62b-6ac1d296d6a9",
   "metadata": {},
   "source": [
    "***Fact_Employee_Performance***"
   ]
  },
  {
   "cell_type": "code",
   "execution_count": 35,
   "id": "3d6599a4-8655-4e8a-8bd2-1891a807c351",
   "metadata": {},
   "outputs": [],
   "source": [
    "# Extract relevant columns\n",
    "Fact_Employee_Performance = df[['Employee_Name', 'TermReason', 'EngagementSurvey','EmpSatisfaction','SpecialProjectsCount','DaysLateLast30','Absences']].drop_duplicates()"
   ]
  },
  {
   "cell_type": "code",
   "execution_count": 36,
   "id": "36bc57ab-f10c-43a1-85c1-ace99ff1e676",
   "metadata": {},
   "outputs": [],
   "source": [
    "# Extract relevant columns from the dimension tables for the join\n",
    "query_employee = 'SELECT \"Employee_ID\", \"Employee_Name\" FROM \"Dim_Employee\"'\n",
    "query_termination = 'SELECT \"Termination_ID\", \"Employee_ID\" FROM \"Dim_Termination\"'\n",
    "\n",
    "df_employee_ids = pd.read_sql(query_employee, con=engine)\n",
    "df_termination_ids = pd.read_sql(query_termination, con=engine)"
   ]
  },
  {
   "cell_type": "code",
   "execution_count": 37,
   "id": "89df2e08-9686-46e4-8d47-fc803d2bc3c7",
   "metadata": {},
   "outputs": [],
   "source": [
    "# Rename columns\n",
    "Fact_Employee_Performance = Fact_Employee_Performance.rename(columns={\n",
    "    'TermReason': 'Termination_Reason',\n",
    "    'EngagementSurvey': 'Engagement_Survey_Score',\n",
    "    'EmpSatisfaction': 'Employee_Satisfaction',\n",
    "    'SpecialProjectsCount': 'Special_Projects_Count',\n",
    "    'DaysLateLast30': 'Days_Late_Last_Month'\n",
    "})"
   ]
  },
  {
   "cell_type": "code",
   "execution_count": 39,
   "id": "4da70ef0-6be7-47ea-a70e-19409dd2d9c4",
   "metadata": {},
   "outputs": [],
   "source": [
    "# Merge Fact_Employee_Performance with dimension tables\n",
    "Fact_Employee_Performance = Fact_Employee_Performance.merge(df_employee_ids, on='Employee_Name', how='left')\n",
    "Fact_Employee_Performance = Fact_Employee_Performance.merge(df_termination_ids, on='Employee_ID', how='left')"
   ]
  },
  {
   "cell_type": "code",
   "execution_count": 40,
   "id": "6868968c-cad3-41ab-bf61-50ffa21a47ec",
   "metadata": {},
   "outputs": [],
   "source": [
    "# Reorder the columns matching the data warehouse structure\n",
    "Fact_Employee_Performance = Fact_Employee_Performance[['Employee_ID', 'Termination_ID', 'Engagement_Survey_Score', 'Employee_Satisfaction', 'Special_Projects_Count', 'Days_Late_Last_Month', 'Absences']]"
   ]
  },
  {
   "cell_type": "code",
   "execution_count": 41,
   "id": "34feaab3-7f3c-45a9-a5ae-e9a5c9907eb2",
   "metadata": {},
   "outputs": [
    {
     "data": {
      "text/plain": [
       "311"
      ]
     },
     "execution_count": 41,
     "metadata": {},
     "output_type": "execute_result"
    }
   ],
   "source": [
    "# Load data into Fact_Employee_Performance table\n",
    "Fact_Employee_Performance.to_sql('Fact_Employee_Performance', con=engine, if_exists='append', index=False)"
   ]
  }
 ],
 "metadata": {
  "kernelspec": {
   "display_name": "Python 3 (ipykernel)",
   "language": "python",
   "name": "python3"
  },
  "language_info": {
   "codemirror_mode": {
    "name": "ipython",
    "version": 3
   },
   "file_extension": ".py",
   "mimetype": "text/x-python",
   "name": "python",
   "nbconvert_exporter": "python",
   "pygments_lexer": "ipython3",
   "version": "3.11.7"
  }
 },
 "nbformat": 4,
 "nbformat_minor": 5
}
